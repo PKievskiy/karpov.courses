{
 "cells": [
  {
   "cell_type": "code",
   "execution_count": 23,
   "id": "76d8b9e6",
   "metadata": {},
   "outputs": [],
   "source": [
    "import pandas as pd\n",
    "import numpy as np\n",
    "import matplotlib.pyplot as plt\n",
    "import requests\n",
    "from urllib.parse import urlencode \n",
    "from scipy.stats import norm\n",
    "from scipy.stats import chi2_contingency\n",
    "plt.style.use('ggplot')\n",
    "from tqdm.auto import tqdm"
   ]
  },
  {
   "cell_type": "code",
   "execution_count": 3,
   "id": "96c83c24",
   "metadata": {},
   "outputs": [],
   "source": [
    "plt.rcParams[\"figure.figsize\"] = (15, 8)"
   ]
  },
  {
   "cell_type": "markdown",
   "id": "ea4b459c",
   "metadata": {},
   "source": [
    "#### Есть две группы пользователей, которым предлагали разные акционные предложения.  \n",
    "#### Исследуем полученный доход по каждой группе."
   ]
  },
  {
   "cell_type": "code",
   "execution_count": 4,
   "id": "38aa3a4b",
   "metadata": {},
   "outputs": [],
   "source": [
    "# загружаем данные\n",
    "# используем api \n",
    "base_url = 'https://cloud-api.yandex.net/v1/disk/public/resources/download?' \n",
    "public_key = 'https://disk.yandex.ru/d/SOkIsD5A8xlI7Q' \n",
    " \n",
    "# получаем url \n",
    "final_url = base_url + urlencode(dict(public_key=public_key)) \n",
    "response = requests.get(final_url) \n",
    "download_url = response.json()['href'] \n",
    " \n",
    "# загружаем файл в df \n",
    "download_response = requests.get(download_url) \n",
    "df = pd.read_csv(download_url, sep=';') "
   ]
  },
  {
   "cell_type": "code",
   "execution_count": 12,
   "id": "2297fce1",
   "metadata": {},
   "outputs": [
    {
     "data": {
      "text/html": [
       "<div>\n",
       "<style scoped>\n",
       "    .dataframe tbody tr th:only-of-type {\n",
       "        vertical-align: middle;\n",
       "    }\n",
       "\n",
       "    .dataframe tbody tr th {\n",
       "        vertical-align: top;\n",
       "    }\n",
       "\n",
       "    .dataframe thead th {\n",
       "        text-align: right;\n",
       "    }\n",
       "</style>\n",
       "<table border=\"1\" class=\"dataframe\">\n",
       "  <thead>\n",
       "    <tr style=\"text-align: right;\">\n",
       "      <th></th>\n",
       "      <th>user_id</th>\n",
       "      <th>revenue</th>\n",
       "      <th>testgroup</th>\n",
       "    </tr>\n",
       "  </thead>\n",
       "  <tbody>\n",
       "    <tr>\n",
       "      <th>0</th>\n",
       "      <td>1</td>\n",
       "      <td>0</td>\n",
       "      <td>b</td>\n",
       "    </tr>\n",
       "    <tr>\n",
       "      <th>1</th>\n",
       "      <td>2</td>\n",
       "      <td>0</td>\n",
       "      <td>a</td>\n",
       "    </tr>\n",
       "    <tr>\n",
       "      <th>2</th>\n",
       "      <td>3</td>\n",
       "      <td>0</td>\n",
       "      <td>a</td>\n",
       "    </tr>\n",
       "    <tr>\n",
       "      <th>3</th>\n",
       "      <td>4</td>\n",
       "      <td>0</td>\n",
       "      <td>b</td>\n",
       "    </tr>\n",
       "    <tr>\n",
       "      <th>4</th>\n",
       "      <td>5</td>\n",
       "      <td>0</td>\n",
       "      <td>b</td>\n",
       "    </tr>\n",
       "  </tbody>\n",
       "</table>\n",
       "</div>"
      ],
      "text/plain": [
       "   user_id  revenue testgroup\n",
       "0        1        0         b\n",
       "1        2        0         a\n",
       "2        3        0         a\n",
       "3        4        0         b\n",
       "4        5        0         b"
      ]
     },
     "execution_count": 12,
     "metadata": {},
     "output_type": "execute_result"
    }
   ],
   "source": [
    "# проведём исследование данных\n",
    "# вид таблицы:\n",
    "df.head()"
   ]
  },
  {
   "cell_type": "code",
   "execution_count": 11,
   "id": "76324910",
   "metadata": {},
   "outputs": [
    {
     "name": "stdout",
     "output_type": "stream",
     "text": [
      "<class 'pandas.core.frame.DataFrame'>\n",
      "RangeIndex: 404770 entries, 0 to 404769\n",
      "Data columns (total 3 columns):\n",
      " #   Column     Non-Null Count   Dtype \n",
      "---  ------     --------------   ----- \n",
      " 0   user_id    404770 non-null  int64 \n",
      " 1   revenue    404770 non-null  int64 \n",
      " 2   testgroup  404770 non-null  object\n",
      "dtypes: int64(2), object(1)\n",
      "memory usage: 9.3+ MB\n"
     ]
    }
   ],
   "source": [
    "# посмотрим на пропущенные значения и на тип данных\n",
    "df.info()"
   ]
  },
  {
   "cell_type": "code",
   "execution_count": 15,
   "id": "6db3cac2",
   "metadata": {},
   "outputs": [
    {
     "data": {
      "text/html": [
       "<div>\n",
       "<style scoped>\n",
       "    .dataframe tbody tr th:only-of-type {\n",
       "        vertical-align: middle;\n",
       "    }\n",
       "\n",
       "    .dataframe tbody tr th {\n",
       "        vertical-align: top;\n",
       "    }\n",
       "\n",
       "    .dataframe thead th {\n",
       "        text-align: right;\n",
       "    }\n",
       "</style>\n",
       "<table border=\"1\" class=\"dataframe\">\n",
       "  <thead>\n",
       "    <tr style=\"text-align: right;\">\n",
       "      <th></th>\n",
       "      <th>user_id</th>\n",
       "      <th>revenue</th>\n",
       "    </tr>\n",
       "  </thead>\n",
       "  <tbody>\n",
       "    <tr>\n",
       "      <th>count</th>\n",
       "      <td>404770.000000</td>\n",
       "      <td>404770.000000</td>\n",
       "    </tr>\n",
       "    <tr>\n",
       "      <th>mean</th>\n",
       "      <td>202385.500000</td>\n",
       "      <td>26.083435</td>\n",
       "    </tr>\n",
       "    <tr>\n",
       "      <th>std</th>\n",
       "      <td>116847.178567</td>\n",
       "      <td>681.652928</td>\n",
       "    </tr>\n",
       "    <tr>\n",
       "      <th>min</th>\n",
       "      <td>1.000000</td>\n",
       "      <td>0.000000</td>\n",
       "    </tr>\n",
       "    <tr>\n",
       "      <th>25%</th>\n",
       "      <td>101193.250000</td>\n",
       "      <td>0.000000</td>\n",
       "    </tr>\n",
       "    <tr>\n",
       "      <th>50%</th>\n",
       "      <td>202385.500000</td>\n",
       "      <td>0.000000</td>\n",
       "    </tr>\n",
       "    <tr>\n",
       "      <th>75%</th>\n",
       "      <td>303577.750000</td>\n",
       "      <td>0.000000</td>\n",
       "    </tr>\n",
       "    <tr>\n",
       "      <th>max</th>\n",
       "      <td>404770.000000</td>\n",
       "      <td>37433.000000</td>\n",
       "    </tr>\n",
       "  </tbody>\n",
       "</table>\n",
       "</div>"
      ],
      "text/plain": [
       "             user_id        revenue\n",
       "count  404770.000000  404770.000000\n",
       "mean   202385.500000      26.083435\n",
       "std    116847.178567     681.652928\n",
       "min         1.000000       0.000000\n",
       "25%    101193.250000       0.000000\n",
       "50%    202385.500000       0.000000\n",
       "75%    303577.750000       0.000000\n",
       "max    404770.000000   37433.000000"
      ]
     },
     "execution_count": 15,
     "metadata": {},
     "output_type": "execute_result"
    }
   ],
   "source": [
    "# описательная статистика\n",
    "df.describe()"
   ]
  },
  {
   "cell_type": "code",
   "execution_count": 18,
   "id": "c3b1641b",
   "metadata": {},
   "outputs": [],
   "source": [
    "# минимальные и максимальные значения в столбцах ведут себя нормально. Слишком больших или отрицательных значений нет.\n",
    "# Итого: ошибок, пропусков - нет. Типы данных соответствуют предпологаемому наполнению.\n",
    "# Распределение значений увидим при изучении данных в группах отдельно."
   ]
  },
  {
   "cell_type": "code",
   "execution_count": 7,
   "id": "05486601",
   "metadata": {},
   "outputs": [],
   "source": [
    "# Делим пользователей по группам\n",
    "df_a = df.query(\"testgroup == 'a'\")\n",
    "df_b = df.query(\"testgroup == 'b'\")"
   ]
  },
  {
   "cell_type": "code",
   "execution_count": 8,
   "id": "fdc1818d",
   "metadata": {},
   "outputs": [
    {
     "name": "stdout",
     "output_type": "stream",
     "text": [
      "средний доход на пользователя в группе А = 25.413719736965806\n",
      "средний доход на пользователя в группе B = 26.75128659327863\n",
      "АРПУ в тестовой группе больше на 5.263168360069903%\n"
     ]
    }
   ],
   "source": [
    "arpu_a = df_a.revenue.sum() / df_a.shape[0]\n",
    "arpu_b = df_b.revenue.sum() / df_b.shape[0]\n",
    "print(f'средний доход на пользователя в группе А = {arpu_a}')\n",
    "print(f'средний доход на пользователя в группе B = {arpu_b}')\n",
    "print(f'АРПУ в тестовой группе больше на {((arpu_b / arpu_a)-1) * 100}%')"
   ]
  },
  {
   "cell_type": "code",
   "execution_count": 9,
   "id": "7a0662b5",
   "metadata": {},
   "outputs": [
    {
     "name": "stdout",
     "output_type": "stream",
     "text": [
      "средний доход на платящего пользователя в группе А = 2663.9984439834025\n",
      "средний доход на платящего пользователя в группе B = 3003.6581717451522\n",
      "АРППУ в тестовой группе больше на 12.749997227996346%\n"
     ]
    }
   ],
   "source": [
    "df_b_pu = df_b.query(\"revenue > 0\")\n",
    "df_a_pu = df_a.query(\"revenue > 0\")\n",
    "arppu_a = df_a_pu.revenue.sum() / df_a_pu.shape[0]\n",
    "arppu_b = df_b_pu.revenue.sum() / df_b_pu.shape[0]\n",
    "print(f'средний доход на платящего пользователя в группе А = {arppu_a}')\n",
    "print(f'средний доход на платящего пользователя в группе B = {arppu_b}')\n",
    "print(f'АРППУ в тестовой группе больше на {((arppu_b / arppu_a) - 1) * 100}%')"
   ]
  },
  {
   "cell_type": "code",
   "execution_count": 10,
   "id": "1f3e3081",
   "metadata": {},
   "outputs": [
    {
     "name": "stdout",
     "output_type": "stream",
     "text": [
      "суммарная выручка по группе А = 5136189\n",
      "суммарная выручка по группе B = 5421603\n",
      "выручка в группе B больше чем в группе А на 285414\n"
     ]
    }
   ],
   "source": [
    "# суммарная выручка по тестовых групп\n",
    "print(f'суммарная выручка по группе А = {df_a.revenue.sum()}')\n",
    "print(f'суммарная выручка по группе B = {df_b.revenue.sum()}')\n",
    "print(f'выручка в группе B больше чем в группе А на {df_b.revenue.sum()-df_a.revenue.sum()}')"
   ]
  },
  {
   "cell_type": "code",
   "execution_count": 16,
   "id": "544ecf2c",
   "metadata": {},
   "outputs": [
    {
     "name": "stdout",
     "output_type": "stream",
     "text": [
      "всего в группе А 202103 человек, из них платящих 1928(0.95%)\n",
      "всего в группе B 202667 человек, из них платящих 1805(0.89%)\n",
      "группа В больше А на 564 человек или на 0.28%\n"
     ]
    }
   ],
   "source": [
    "# велика ли разница в количеcтве человек в группах\n",
    "cr_a = round(100 * df_a_pu.shape[0] / df_a.shape[0], 2)\n",
    "cr_b = round(100 * df_b_pu.shape[0] / df_b.shape[0], 2)\n",
    "diff_a_b = round(100 * df_b.shape[0] / df_a.shape[0] - 100, 2)\n",
    "\n",
    "print(f'всего в группе А {df_a.shape[0]} человек, из них платящих {df_a_pu.shape[0]}({cr_a}%)')\n",
    "print(f'всего в группе B {df_b.shape[0]} человек, из них платящих {df_b_pu.shape[0]}({cr_b}%)')\n",
    "print(f'группа В больше А на {df_b.shape[0]-df_a.shape[0]} человек или на {diff_a_b}%')"
   ]
  },
  {
   "cell_type": "markdown",
   "id": "e7175e2e",
   "metadata": {},
   "source": [
    "#### Расхождения в группах есть, но не критичные"
   ]
  },
  {
   "cell_type": "code",
   "execution_count": 42,
   "id": "182a1416",
   "metadata": {},
   "outputs": [
    {
     "data": {
      "text/plain": [
       "<matplotlib.axes._subplots.AxesSubplot at 0x7efd8419c0f0>"
      ]
     },
     "execution_count": 42,
     "metadata": {},
     "output_type": "execute_result"
    },
    {
     "data": {
      "image/png": "[encoded data removed]",
      "text/plain": [
       "<Figure size 1080x576 with 1 Axes>"
      ]
     },
     "metadata": {},
     "output_type": "display_data"
    }
   ],
   "source": [
    "# Посмотрим на распределение сумм покупок в группе А\n",
    "df_a_pu.revenue.hist(bins=50)"
   ]
  },
  {
   "cell_type": "code",
   "execution_count": 16,
   "id": "2a7ec925",
   "metadata": {},
   "outputs": [
    {
     "data": {
      "text/plain": [
       "count      123.000000\n",
       "mean     37319.121951\n",
       "std         25.442183\n",
       "min      37293.000000\n",
       "25%      37301.000000\n",
       "50%      37311.000000\n",
       "75%      37329.000000\n",
       "max      37433.000000\n",
       "Name: revenue, dtype: float64"
      ]
     },
     "execution_count": 16,
     "metadata": {},
     "output_type": "execute_result"
    }
   ],
   "source": [
    "# посмотрим более детальную информацию по этому \"выбросу\"  \n",
    "df_a_pu.query(\"revenue > 1000\").revenue.describe()"
   ]
  },
  {
   "cell_type": "markdown",
   "id": "b0dafcc8",
   "metadata": {},
   "source": [
    "#### 123 человека совершили очень крупные покупки, больше чем на 37 000 у.е. каждый"
   ]
  },
  {
   "cell_type": "code",
   "execution_count": 50,
   "id": "a654650c",
   "metadata": {},
   "outputs": [
    {
     "name": "stdout",
     "output_type": "stream",
     "text": [
      "Эти 123 пользователя принесли 89.37% доходов\n"
     ]
    }
   ],
   "source": [
    "# посчитаем какова доля этих 123 человек в общем доходе в группе\n",
    "rev_123 = round(df_a_pu.query(\"revenue > 1000\").revenue.sum() * 100 / df_a_pu.revenue.sum(), 2)\n",
    "print(f'Эти 123 пользователя принесли {rev_123}% доходов')"
   ]
  },
  {
   "cell_type": "code",
   "execution_count": 43,
   "id": "e826fa30",
   "metadata": {},
   "outputs": [
    {
     "data": {
      "text/plain": [
       "<matplotlib.axes._subplots.AxesSubplot at 0x7efd840900b8>"
      ]
     },
     "execution_count": 43,
     "metadata": {},
     "output_type": "execute_result"
    },
    {
     "data": {
      "image/png": "[encoded data removed]",
      "text/plain": [
       "<Figure size 1080x576 with 1 Axes>"
      ]
     },
     "metadata": {},
     "output_type": "display_data"
    }
   ],
   "source": [
    "# Распределение сумм покупок в группе В\n",
    "df_b_pu.revenue.hist(bins=50)"
   ]
  },
  {
   "cell_type": "markdown",
   "id": "f8ec5fcb",
   "metadata": {},
   "source": [
    "#### Исходя из этих распределений, можно предположить, что в первом случае акция была нацелена на единичных пользователей для совершения ими крупных (или большого количества) покупок (123 человека). А во втором - на поднятие доходов с массы пользователей, совершающих  относительно небольшие покупки."
   ]
  },
  {
   "cell_type": "code",
   "execution_count": 44,
   "id": "ec398c38",
   "metadata": {},
   "outputs": [
    {
     "data": {
      "text/plain": [
       "<matplotlib.axes._subplots.AxesSubplot at 0x7efd83f7dac8>"
      ]
     },
     "execution_count": 44,
     "metadata": {},
     "output_type": "execute_result"
    },
    {
     "data": {
      "image/png": "[encoded data removed]",
      "text/plain": [
       "<Figure size 1080x576 with 1 Axes>"
      ]
     },
     "metadata": {},
     "output_type": "display_data"
    }
   ],
   "source": [
    "# визуализация разницы в суммах дохода с пользователей совершающих небольшие покупки в группах А и B.\n",
    "df_a_pu.query(\"revenue < 1000\").revenue.hist(bins=50)\n",
    "df_b_pu.revenue.hist(bins=50)"
   ]
  },
  {
   "cell_type": "markdown",
   "id": "f6bc47c2",
   "metadata": {},
   "source": [
    "#### В первом приближении вторая стратегия (увеличение чека большой массы пользователей) оказалась чуть эффективнее. АРПУ (ну и общая выручка) больше на 5%, АРППУ на 12%.  \n",
    "#### Посмотрим, так ли это на самом деле с помощью статистических тестов.\n",
    "\n"
   ]
  },
  {
   "cell_type": "markdown",
   "id": "f1895a86",
   "metadata": {},
   "source": [
    "#### Будем применять бутстрап при сравнении средних. Именно средних, т.к. медиана или другой квантиль не помогут оценить общий уровень дохода от группы. А для денег это очень важно.  \n",
    "#### По этой же причине отметаем тест Манн-Уитни. Т.к. нам принципиально важно различие между средними значениями, а не формами распределения. К тому же, нормальной работе теста мешают повторяющиеся значения, а у нас значения дохода в обоих группах на 99% состоят из нулей."
   ]
  },
  {
   "cell_type": "markdown",
   "id": "fcd855fa",
   "metadata": {},
   "source": [
    "#### За нулевую гипотезу примем, что средние в группах не имеют различий.  За альтернативную, что среднее во второй группе отличается от первой. Альфа - 0,05."
   ]
  },
  {
   "cell_type": "code",
   "execution_count": 3,
   "id": "59fdc893",
   "metadata": {},
   "outputs": [],
   "source": [
    "def get_bootstrap(\n",
    "    data_column_1,  # числовые значения первой выборки\n",
    "    data_column_2,  # числовые значения второй выборки\n",
    "    boot_it=3000,  # количество бутстрэп-подвыборок\n",
    "    statistic=np.mean,  # интересующая нас статистика\n",
    "    bootstrap_conf_level=0.95  # уровень значимости\n",
    "):\n",
    "    boot_data = []\n",
    "    for i in tqdm(range(boot_it)):  # извлекаем подвыборки\n",
    "        samples_1 = data_column_1.sample(\n",
    "            len(data_column_1), \n",
    "            replace=True  # параметр возвращения\n",
    "        ).values\n",
    "        \n",
    "        samples_2 = data_column_2.sample(\n",
    "            len(data_column_1), \n",
    "            replace=True\n",
    "        ).values\n",
    "        \n",
    "        boot_data.append(statistic(samples_2) - statistic(samples_1))  # mean() - применяем статистику\n",
    "        \n",
    "    pd_boot_data = pd.DataFrame(boot_data)\n",
    "        \n",
    "    left_quant = (1 - bootstrap_conf_level) / 2\n",
    "    right_quant = 1 - (1 - bootstrap_conf_level) / 2\n",
    "    quants = pd_boot_data.quantile([left_quant, right_quant])\n",
    "        \n",
    "    p_1 = norm.cdf(\n",
    "        x=0, \n",
    "        loc=np.mean(boot_data), \n",
    "        scale=np.std(boot_data)\n",
    "    )\n",
    "    p_2 = norm.cdf(\n",
    "        x=0, \n",
    "        loc=-np.mean(boot_data), \n",
    "        scale=np.std(boot_data)\n",
    "    )\n",
    "    p_value = min(p_1, p_2) * 2\n",
    "        \n",
    "    # Визуализация\n",
    "    _, _, bars = plt.hist(pd_boot_data[0], bins=50)\n",
    "    for bar in bars:\n",
    "        if bar.get_x() <= quants.iloc[0][0] or bar.get_x() >= quants.iloc[1][0]:\n",
    "            bar.set_facecolor('red')\n",
    "        else: \n",
    "            bar.set_facecolor('grey')\n",
    "            bar.set_edgecolor('black')\n",
    "    \n",
    "    plt.style.use('ggplot')\n",
    "    plt.vlines(quants, ymin=0, ymax=50, linestyle='--')\n",
    "    plt.xlabel('boot_data')\n",
    "    plt.ylabel('frequency')\n",
    "    plt.title(\"Histogram of boot_data\")\n",
    "    plt.show()\n",
    "       \n",
    "    return {\"boot_data\": boot_data, \n",
    "            \"quants\": quants, \n",
    "            \"p_value\": p_value}"
   ]
  },
  {
   "cell_type": "code",
   "execution_count": 18,
   "id": "f46b4c0f",
   "metadata": {},
   "outputs": [
    {
     "data": {
      "application/vnd.jupyter.widget-view+json": {
       "model_id": "d5bf95f185d343f1956f1cca933103b3",
       "version_major": 2,
       "version_minor": 0
      },
      "text/plain": [
       "HBox(children=(FloatProgress(value=0.0, max=3000.0), HTML(value='')))"
      ]
     },
     "metadata": {},
     "output_type": "display_data"
    },
    {
     "name": "stdout",
     "output_type": "stream",
     "text": [
      "\n"
     ]
    },
    {
     "data": {
      "image/png": "[encoded data removed]",
      "text/plain": [
       "<Figure size 1080x576 with 1 Axes>"
      ]
     },
     "metadata": {},
     "output_type": "display_data"
    }
   ],
   "source": [
    "booted_data = get_bootstrap(df_a.revenue, df_b.revenue)"
   ]
  },
  {
   "cell_type": "markdown",
   "id": "1d993f86",
   "metadata": {},
   "source": [
    "#### если нулевая гипотеза верна, шанс получить наши данные в группах составит:"
   ]
  },
  {
   "cell_type": "code",
   "execution_count": 19,
   "id": "475f1484",
   "metadata": {
    "scrolled": true
   },
   "outputs": [
    {
     "name": "stdout",
     "output_type": "stream",
     "text": [
      "52.77%\n"
     ]
    }
   ],
   "source": [
    "print(f'{round(100*booted_data[\"p_value\"], 2)}%')"
   ]
  },
  {
   "cell_type": "markdown",
   "id": "b096b9f0",
   "metadata": {},
   "source": [
    "#### Что не даёт нам права отклонить нулевую гипотезу."
   ]
  },
  {
   "cell_type": "markdown",
   "id": "da083d25",
   "metadata": {},
   "source": [
    "### Проведём сравнение только платящих пользователей"
   ]
  },
  {
   "cell_type": "code",
   "execution_count": 24,
   "id": "fe1f0c92",
   "metadata": {},
   "outputs": [
    {
     "data": {
      "application/vnd.jupyter.widget-view+json": {
       "model_id": "13884798da11475c84f3e2fc38bc47fb",
       "version_major": 2,
       "version_minor": 0
      },
      "text/plain": [
       "HBox(children=(FloatProgress(value=0.0, max=3000.0), HTML(value='')))"
      ]
     },
     "metadata": {},
     "output_type": "display_data"
    },
    {
     "name": "stdout",
     "output_type": "stream",
     "text": [
      "\n"
     ]
    },
    {
     "data": {
      "image/png": "[encoded data removed]",
      "text/plain": [
       "<Figure size 1080x576 with 1 Axes>"
      ]
     },
     "metadata": {},
     "output_type": "display_data"
    }
   ],
   "source": [
    "booted_data = get_bootstrap(df_a_pu.revenue, df_b_pu.revenue)"
   ]
  },
  {
   "cell_type": "markdown",
   "id": "e18ed32b",
   "metadata": {},
   "source": [
    "#### если нулевая гипотеза верна, шанс получить наши данные в группах составит:"
   ]
  },
  {
   "cell_type": "code",
   "execution_count": 25,
   "id": "997fd0e6",
   "metadata": {},
   "outputs": [
    {
     "name": "stdout",
     "output_type": "stream",
     "text": [
      "9.51%\n"
     ]
    }
   ],
   "source": [
    "print(f'{round(100*booted_data[\"p_value\"], 2)}%')"
   ]
  },
  {
   "cell_type": "markdown",
   "id": "583132bd",
   "metadata": {},
   "source": [
    "#### Что, опять же, не даёт нам права отклонить нулевую гиппотезу."
   ]
  },
  {
   "cell_type": "markdown",
   "id": "a9f16c9a",
   "metadata": {},
   "source": [
    "### Оценка различия конверсии в группах"
   ]
  },
  {
   "cell_type": "markdown",
   "id": "283cb5f6",
   "metadata": {},
   "source": [
    "#### т.к. конверсия величина категориальаня (купил или нет) то для её оценки используем метод Хи-квадрат"
   ]
  },
  {
   "cell_type": "code",
   "execution_count": 20,
   "id": "346e9070",
   "metadata": {},
   "outputs": [],
   "source": [
    "df['CR'] = df.revenue.apply(lambda x: 'converted' if x > 0 else 'not_converted')"
   ]
  },
  {
   "cell_type": "code",
   "execution_count": 30,
   "id": "ac079521",
   "metadata": {},
   "outputs": [
    {
     "data": {
      "text/html": [
       "<div>\n",
       "<style scoped>\n",
       "    .dataframe tbody tr th:only-of-type {\n",
       "        vertical-align: middle;\n",
       "    }\n",
       "\n",
       "    .dataframe tbody tr th {\n",
       "        vertical-align: top;\n",
       "    }\n",
       "\n",
       "    .dataframe thead th {\n",
       "        text-align: right;\n",
       "    }\n",
       "</style>\n",
       "<table border=\"1\" class=\"dataframe\">\n",
       "  <thead>\n",
       "    <tr style=\"text-align: right;\">\n",
       "      <th>testgroup</th>\n",
       "      <th>a</th>\n",
       "      <th>b</th>\n",
       "    </tr>\n",
       "    <tr>\n",
       "      <th>CR</th>\n",
       "      <th></th>\n",
       "      <th></th>\n",
       "    </tr>\n",
       "  </thead>\n",
       "  <tbody>\n",
       "    <tr>\n",
       "      <th>converted</th>\n",
       "      <td>1928</td>\n",
       "      <td>1805</td>\n",
       "    </tr>\n",
       "    <tr>\n",
       "      <th>not_converted</th>\n",
       "      <td>200175</td>\n",
       "      <td>200862</td>\n",
       "    </tr>\n",
       "  </tbody>\n",
       "</table>\n",
       "</div>"
      ],
      "text/plain": [
       "testgroup           a       b\n",
       "CR                           \n",
       "converted        1928    1805\n",
       "not_converted  200175  200862"
      ]
     },
     "execution_count": 30,
     "metadata": {},
     "output_type": "execute_result"
    }
   ],
   "source": [
    "pd.crosstab(df.CR, df.testgroup)"
   ]
  },
  {
   "cell_type": "code",
   "execution_count": 28,
   "id": "f5485edb",
   "metadata": {},
   "outputs": [],
   "source": [
    "chi = chi2_contingency(pd.crosstab(df.CR, df.testgroup))"
   ]
  },
  {
   "cell_type": "code",
   "execution_count": 29,
   "id": "66385b12",
   "metadata": {},
   "outputs": [
    {
     "name": "stdout",
     "output_type": "stream",
     "text": [
      "p-value: 0.036\n"
     ]
    }
   ],
   "source": [
    "print(f'p-value: {chi[1].round(3)}')"
   ]
  },
  {
   "cell_type": "markdown",
   "id": "988c6d7b",
   "metadata": {},
   "source": [
    "#### Как видим, занчение конверсии в группе \"А\" статистически значимо больше."
   ]
  },
  {
   "cell_type": "markdown",
   "id": "138eb2a3",
   "metadata": {},
   "source": [
    "## Выводы.  \n",
    "Попробуем ответить на вопросы обратившегося к нам коллеги:\n",
    "1. Какой набор предложений можно считать лучшим? \n",
    "2. Какие метрики стоит проанализировать для принятия правильного решения и как?"
   ]
  },
  {
   "cell_type": "markdown",
   "id": "62a6e336",
   "metadata": {},
   "source": [
    "Однозначного ответа на вопрос, какой набор акций лучше, из имеющихся данных, дать нельзя. \n",
    "Исходя из имеющихся данных, можно предложить, что акции были направлены на стимулирование разных групп и поведения пользователей. Мы предполагаем, что акция \"А\" стимулировала нескольких пользователей-китов совершить покупку (или несколько покупок) на очень большие суммы и практически не воздействовала на остальной сегмент платящих пользователей, которые совершили много мелких покупок (200-400 у.е.). А акция \"В\" как раз стимулировала значительно больший сегмент \"мелких\" платящих пользователей потратить на игру больше обычного (2000-4000 у.е.)\n",
    "\n",
    "Обе акции в целом со своей задачей справились.  \n",
    "Очень не хватает по-настоящему контрольной группы, к которой никакие акции не применялись.(Ввиду их отсутствия данные о множестве мелких доходов в группе \"А\" (от 200 до 400 у.е.) мы принимаем за чистые данные о доходах с пользователей без воздействия акций. На основе этой гипотезы можно сделать вывод о направленности  акций в группе \"В\").\n",
    "\n",
    "Сравнивая две предложенные группы пользователей, хоть мы и видим увеличение АРПУ и АРППУ в группе \"В\", статистически значимого отличия в доходе между группами мы не зафиксировали. Разница может быть обсуловлена случайными факторами.  \n",
    "\n",
    "То, какой набор предложений считать лучшим, будет зависеть от наших планов. Нацелены ли мы на увеличение дохода с массовой группы пользователей с небольшими тратами (акция группы \"В\"), или стремимся получить небольшое количество пользователей с очень значительными тратами (акция группы \"А\").\n",
    "\n",
    "Можно было бы сказать, что стоит выбрать вариант \"А\". Конверсия в покупку этого набора акционных предложений выше. А как мы знаем, что если пользователь купил один раз, то с большей вероятностью сделает это снова, а значит вариант \"А\" в будущем возможно принесёт больше дохода за счёт большего числа платящих пользователей. Но тут надо сделать ремарку о том, что возможно, сумма в 37тыс у.е. потраченная этими пользователями польностью закрывает все потребности навсегда и тогда повторых покупок от них ждать не стоит."
   ]
  },
  {
   "cell_type": "markdown",
   "id": "14db04e8",
   "metadata": {},
   "source": [
    " "
   ]
  },
  {
   "cell_type": "markdown",
   "id": "5acd6c4c",
   "metadata": {},
   "source": [
    "В целом, когда мы имеем дело с деньгами, верхнеуровнево нам важнее всего получить увеличение общего дохода. Посчитать этот показатель от метрик, основанных на процентилях, не получится, т.к. условные 10% пользователей могут приносить 90% выручки.\n",
    "Поэтому стоит смотреть на метрики, являющиеся производными средних значений. \n",
    "\n",
    "У нас для этого недостаточно данных, но очень хорошим вариантом будет сегментация наших пользователей на дополнительные группы по различным параметрам (гео, возраст, уровень в игре, канал привлечения, платформа и т.д.). Это, возможно, позволит найти то место, где наши различные наборы акций смогли дать значимый эффект.\n",
    "\n",
    "Опять же, не хватает данных, но, возможно, имело бы смысл посчитать LTV (хотя бы за какой-то период) групп пользователей, на которых повлияли наши акции. Будет ли это их стимулировать к каким-то приобретениям уже без акциий.\n",
    "\n",
    "Стоит также посмотреть, как покупки по этим акциям влияют на баланс и экономику в игре. Если игра с взаимодейстивем между игроками, то не сказываются ли большие покупки одних пользователей негативно на игровом опыте других? (условно задонатил и теперь кошмарит всю локацию/сервер)."
   ]
  },
  {
   "cell_type": "code",
   "execution_count": null,
   "id": "d29e95c1",
   "metadata": {},
   "outputs": [],
   "source": []
  }
 ],
 "metadata": {
  "kernelspec": {
   "display_name": "Python 3 (ipykernel)",
   "language": "python",
   "name": "python3"
  },
  "language_info": {
   "codemirror_mode": {
    "name": "ipython",
    "version": 3
   },
   "file_extension": ".py",
   "mimetype": "text/x-python",
   "name": "python",
   "nbconvert_exporter": "python",
   "pygments_lexer": "ipython3",
   "version": "3.9.12"
  }
 },
 "nbformat": 4,
 "nbformat_minor": 5
}
