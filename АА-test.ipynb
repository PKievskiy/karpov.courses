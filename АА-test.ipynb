{
 "cells": [
  {
   "cell_type": "markdown",
   "id": "eef42021",
   "metadata": {},
   "source": [
    "# Задача\n",
    "А/А-тестирование мобильного приложения. Необходимо посчитать результаты A/A-теста, проверяя метрику качества FPR (будем проверять на конверсии в покупку). Известно, что сплит-система сломана. Требуется проверить утверждение о поломке и найти ее причины, если сплит-система действительно сломана"
   ]
  },
  {
   "cell_type": "code",
   "execution_count": 1,
   "id": "62e242ec",
   "metadata": {},
   "outputs": [],
   "source": [
    "import numpy as np\n",
    "import pandas as pd\n",
    "from scipy import stats\n",
    "import matplotlib.pyplot as plt\n",
    "import seaborn as sns\n",
    "\n",
    "from tqdm.auto import tqdm"
   ]
  },
  {
   "cell_type": "code",
   "execution_count": 4,
   "id": "1f4248a1",
   "metadata": {},
   "outputs": [],
   "source": [
    "df = pd.read_csv('hw_aa.csv', sep=';')"
   ]
  },
  {
   "cell_type": "code",
   "execution_count": 24,
   "id": "5bfd7eff",
   "metadata": {},
   "outputs": [],
   "source": [
    "var0 = df.query(\"experimentVariant == 0\")['purchase']"
   ]
  },
  {
   "cell_type": "code",
   "execution_count": 25,
   "id": "4334a60a",
   "metadata": {},
   "outputs": [],
   "source": [
    "var1 = df.query(\"experimentVariant == 1\")['purchase']"
   ]
  },
  {
   "cell_type": "code",
   "execution_count": 26,
   "id": "57fd3db7",
   "metadata": {},
   "outputs": [
    {
     "data": {
      "application/vnd.jupyter.widget-view+json": {
       "model_id": "01cd004d14c24cca8343b399af41a02c",
       "version_major": 2,
       "version_minor": 0
      },
      "text/plain": [
       "  0%|          | 0/1000 [00:00<?, ?it/s]"
      ]
     },
     "metadata": {},
     "output_type": "display_data"
    },
    {
     "data": {
      "image/png": "[encoded data removed]",
      "text/plain": [
       "<Figure size 432x288 with 1 Axes>"
      ]
     },
     "metadata": {},
     "output_type": "display_data"
    },
    {
     "data": {
      "text/plain": [
       "0.928"
      ]
     },
     "execution_count": 26,
     "metadata": {},
     "output_type": "execute_result"
    }
   ],
   "source": [
    "n = 100000\n",
    "simulations = 1000\n",
    "n_s = 1000\n",
    "res = []\n",
    "\n",
    "# Запуск симуляций A/A теста\n",
    "for i in tqdm(range(simulations)):\n",
    "    s1 = var0.sample(n_s, replace = False).values\n",
    "    s2 = var1.sample(n_s, replace = False).values\n",
    "    res.append(stats.ttest_ind(s1, s2, equal_var = False)[1]) # сохраняем pvalue\n",
    "\n",
    "plt.hist(res, bins = 50)\n",
    "plt.style.use('ggplot')\n",
    "plt.xlabel('pvalues')\n",
    "plt.ylabel('frequency')\n",
    "plt.title(\"Histogram of ttest A/A simulations \")\n",
    "plt.show()\n",
    "\n",
    "# Проверяем, что количество ложноположительных случаев не превышает альфа\n",
    "sum(np.array(res) <0.05) / simulations"
   ]
  },
  {
   "cell_type": "markdown",
   "id": "8bb4e0ee",
   "metadata": {},
   "source": [
    "Как видим А/А тест при разделении только по варианту эксперимента не сходится.\n"
   ]
  },
  {
   "cell_type": "code",
   "execution_count": 61,
   "id": "d5ea91cc",
   "metadata": {
    "scrolled": true
   },
   "outputs": [
    {
     "name": "stdout",
     "output_type": "stream",
     "text": [
      "v2.8.0      41283\n",
      "v2.9.0      11921\n",
      "v3.8.0.0     5694\n",
      "v3.7.4.0     4204\n",
      "Name: version, dtype: int64\n",
      "v2.8.0      41552\n",
      "v2.9.0      12033\n",
      "v3.8.0.0     6110\n",
      "v3.7.4.0     4221\n",
      "Name: version, dtype: int64\n"
     ]
    }
   ],
   "source": [
    "# проверим нашу выборку на дисбаланс в группах\n",
    "print(df.query(\"experimentVariant == 0\").version.value_counts())\n",
    "print(df.query(\"experimentVariant == 1\").version.value_counts())"
   ]
  },
  {
   "cell_type": "markdown",
   "id": "c4016dff",
   "metadata": {},
   "source": [
    "Дисбаланса в группах по версии приложения нет."
   ]
  },
  {
   "cell_type": "markdown",
   "id": "1f31fbf3",
   "metadata": {},
   "source": [
    "Попробуем провести ещё несколько А/А тестов, предварительно создав тестовые группы с одинаковой версией приложения."
   ]
  },
  {
   "cell_type": "code",
   "execution_count": 46,
   "id": "e5a6e189",
   "metadata": {},
   "outputs": [],
   "source": [
    "v0v280 = df.query(\"experimentVariant == 0 and version == 'v2.8.0'\")['purchase']\n",
    "\n",
    "v0v290 = df.query(\"experimentVariant == 0 and version == 'v2.9.0'\")['purchase']\n",
    "\n",
    "v0v380 = df.query(\"experimentVariant == 0 and version == 'v3.8.0.0'\")['purchase']\n",
    "\n",
    "v0v374 = df.query(\"experimentVariant == 0 and version == 'v3.7.4.0'\")['purchase']"
   ]
  },
  {
   "cell_type": "code",
   "execution_count": 62,
   "id": "74642d10",
   "metadata": {},
   "outputs": [],
   "source": [
    "v1v280 = df.query(\"experimentVariant == 1 and version == 'v2.8.0'\")['purchase']\n",
    "\n",
    "v1v290 = df.query(\"experimentVariant == 1 and version == 'v2.9.0'\")['purchase']\n",
    "\n",
    "v1v380 = df.query(\"experimentVariant == 1 and version == 'v3.8.0.0'\")['purchase']\n",
    "\n",
    "v1v374 = df.query(\"experimentVariant == 1 and version == 'v3.7.4.0'\")['purchase']"
   ]
  },
  {
   "cell_type": "code",
   "execution_count": 47,
   "id": "d6c36b36",
   "metadata": {},
   "outputs": [
    {
     "data": {
      "application/vnd.jupyter.widget-view+json": {
       "model_id": "94a830b70bdf4c93a3c9b1ba6bb98923",
       "version_major": 2,
       "version_minor": 0
      },
      "text/plain": [
       "  0%|          | 0/1000 [00:00<?, ?it/s]"
      ]
     },
     "metadata": {},
     "output_type": "display_data"
    },
    {
     "data": {
      "image/png": "[encoded data removed]",
      "text/plain": [
       "<Figure size 432x288 with 1 Axes>"
      ]
     },
     "metadata": {},
     "output_type": "display_data"
    },
    {
     "data": {
      "text/plain": [
       "1.0"
      ]
     },
     "execution_count": 47,
     "metadata": {},
     "output_type": "execute_result"
    }
   ],
   "source": [
    "n = 100000\n",
    "simulations = 1000\n",
    "n_s = 1000\n",
    "res = []\n",
    "\n",
    "# Запуск симуляций A/A теста\n",
    "for i in tqdm(range(simulations)):\n",
    "    s1 = v0v280.sample(n_s, replace = False).values\n",
    "    s2 = v1v280.sample(n_s, replace = False).values\n",
    "    res.append(stats.ttest_ind(s1, s2, equal_var = False)[1]) # сохраняем pvalue\n",
    "\n",
    "plt.hist(res, bins = 50)\n",
    "plt.style.use('ggplot')\n",
    "plt.xlabel('pvalues')\n",
    "plt.ylabel('frequency')\n",
    "plt.title(\"Histogram of ttest A/A simulations \")\n",
    "plt.show()\n",
    "\n",
    "# Проверяем, что количество ложноположительных случаев не превышает альфа\n",
    "sum(np.array(res) <0.05) / simulations"
   ]
  },
  {
   "cell_type": "code",
   "execution_count": 48,
   "id": "4802f164",
   "metadata": {
    "scrolled": true
   },
   "outputs": [
    {
     "data": {
      "application/vnd.jupyter.widget-view+json": {
       "model_id": "854afb82e77047fe92969c75756f5cca",
       "version_major": 2,
       "version_minor": 0
      },
      "text/plain": [
       "  0%|          | 0/1000 [00:00<?, ?it/s]"
      ]
     },
     "metadata": {},
     "output_type": "display_data"
    },
    {
     "data": {
      "image/png": "[encoded data removed]",
      "text/plain": [
       "<Figure size 432x288 with 1 Axes>"
      ]
     },
     "metadata": {},
     "output_type": "display_data"
    },
    {
     "data": {
      "text/plain": [
       "0.051"
      ]
     },
     "execution_count": 48,
     "metadata": {},
     "output_type": "execute_result"
    }
   ],
   "source": [
    "n = 100000\n",
    "simulations = 1000\n",
    "n_s = 1000\n",
    "res = []\n",
    "\n",
    "# Запуск симуляций A/A теста\n",
    "for i in tqdm(range(simulations)):\n",
    "    s1 = v0v290.sample(n_s, replace = False).values\n",
    "    s2 = v1v290.sample(n_s, replace = False).values\n",
    "    res.append(stats.ttest_ind(s1, s2, equal_var = False)[1]) # сохраняем pvalue\n",
    "\n",
    "plt.hist(res, bins = 50)\n",
    "plt.style.use('ggplot')\n",
    "plt.xlabel('pvalues')\n",
    "plt.ylabel('frequency')\n",
    "plt.title(\"Histogram of ttest A/A simulations \")\n",
    "plt.show()\n",
    "\n",
    "# Проверяем, что количество ложноположительных случаев не превышает альфа\n",
    "sum(np.array(res) <0.05) / simulations"
   ]
  },
  {
   "cell_type": "code",
   "execution_count": 49,
   "id": "1eff4a3a",
   "metadata": {},
   "outputs": [
    {
     "data": {
      "application/vnd.jupyter.widget-view+json": {
       "model_id": "914cc8aafa0647fc836616d486c6c650",
       "version_major": 2,
       "version_minor": 0
      },
      "text/plain": [
       "  0%|          | 0/1000 [00:00<?, ?it/s]"
      ]
     },
     "metadata": {},
     "output_type": "display_data"
    },
    {
     "data": {
      "image/png": "[encoded data removed]",
      "text/plain": [
       "<Figure size 432x288 with 1 Axes>"
      ]
     },
     "metadata": {},
     "output_type": "display_data"
    },
    {
     "data": {
      "text/plain": [
       "0.051"
      ]
     },
     "execution_count": 49,
     "metadata": {},
     "output_type": "execute_result"
    }
   ],
   "source": [
    "n = 100000\n",
    "simulations = 1000\n",
    "n_s = 1000\n",
    "res = []\n",
    "\n",
    "# Запуск симуляций A/A теста\n",
    "for i in tqdm(range(simulations)):\n",
    "    s1 = v0v380.sample(n_s, replace = False).values\n",
    "    s2 = v1v380.sample(n_s, replace = False).values\n",
    "    res.append(stats.ttest_ind(s1, s2, equal_var = False)[1]) # сохраняем pvalue\n",
    "\n",
    "plt.hist(res, bins = 50)\n",
    "plt.style.use('ggplot')\n",
    "plt.xlabel('pvalues')\n",
    "plt.ylabel('frequency')\n",
    "plt.title(\"Histogram of ttest A/A simulations \")\n",
    "plt.show()\n",
    "\n",
    "# Проверяем, что количество ложноположительных случаев не превышает альфа\n",
    "sum(np.array(res) <0.05) / simulations"
   ]
  },
  {
   "cell_type": "code",
   "execution_count": 50,
   "id": "15232319",
   "metadata": {},
   "outputs": [
    {
     "data": {
      "application/vnd.jupyter.widget-view+json": {
       "model_id": "ec872216c53547bb93659d15b82c5ec9",
       "version_major": 2,
       "version_minor": 0
      },
      "text/plain": [
       "  0%|          | 0/1000 [00:00<?, ?it/s]"
      ]
     },
     "metadata": {},
     "output_type": "display_data"
    },
    {
     "data": {
      "image/png": "[encoded data removed]",
      "text/plain": [
       "<Figure size 432x288 with 1 Axes>"
      ]
     },
     "metadata": {},
     "output_type": "display_data"
    },
    {
     "data": {
      "text/plain": [
       "0.027"
      ]
     },
     "execution_count": 50,
     "metadata": {},
     "output_type": "execute_result"
    }
   ],
   "source": [
    "n = 100000\n",
    "simulations = 1000\n",
    "n_s = 1000\n",
    "res = []\n",
    "\n",
    "# Запуск симуляций A/A теста\n",
    "for i in tqdm(range(simulations)):\n",
    "    s1 = v0v374.sample(n_s, replace = False).values\n",
    "    s2 = v1v374.sample(n_s, replace = False).values\n",
    "    res.append(stats.ttest_ind(s1, s2, equal_var = False)[1]) # сохраняем pvalue\n",
    "\n",
    "plt.hist(res, bins = 50)\n",
    "plt.style.use('ggplot')\n",
    "plt.xlabel('pvalues')\n",
    "plt.ylabel('frequency')\n",
    "plt.title(\"Histogram of ttest A/A simulations \")\n",
    "plt.show()\n",
    "\n",
    "# Проверяем, что количество ложноположительных случаев не превышает альфа\n",
    "sum(np.array(res) <0.05) / simulations"
   ]
  },
  {
   "cell_type": "markdown",
   "id": "5e01722c",
   "metadata": {},
   "source": [
    "как видно из полученных результатов ошибка сплитования происходит на версии v2.8.0. А т.к. пользователей с этой версией приложения больше 50% от общего количества, то это сильно влияет на весь результат.\n",
    "\n",
    "Исключим результаты с данной версией из общей таблицы и повторим А/А тест."
   ]
  },
  {
   "cell_type": "code",
   "execution_count": 66,
   "id": "69898ca2",
   "metadata": {},
   "outputs": [],
   "source": [
    "qdf = df.query(\"version != 'v2.8.0'\")"
   ]
  },
  {
   "cell_type": "code",
   "execution_count": 67,
   "id": "0ca4f5d3",
   "metadata": {},
   "outputs": [],
   "source": [
    "var0 = qdf.query(\"experimentVariant == 0\")['purchase']"
   ]
  },
  {
   "cell_type": "code",
   "execution_count": 68,
   "id": "6575794d",
   "metadata": {},
   "outputs": [],
   "source": [
    "var1 = qdf.query(\"experimentVariant == 1\")['purchase']"
   ]
  },
  {
   "cell_type": "code",
   "execution_count": 69,
   "id": "54115f0e",
   "metadata": {},
   "outputs": [
    {
     "data": {
      "application/vnd.jupyter.widget-view+json": {
       "model_id": "c5eacdfa821f48ca885e1b4f25443fa8",
       "version_major": 2,
       "version_minor": 0
      },
      "text/plain": [
       "  0%|          | 0/1000 [00:00<?, ?it/s]"
      ]
     },
     "metadata": {},
     "output_type": "display_data"
    },
    {
     "data": {
      "image/png": "[encoded data removed]",
      "text/plain": [
       "<Figure size 432x288 with 1 Axes>"
      ]
     },
     "metadata": {},
     "output_type": "display_data"
    },
    {
     "data": {
      "text/plain": [
       "0.049"
      ]
     },
     "execution_count": 69,
     "metadata": {},
     "output_type": "execute_result"
    }
   ],
   "source": [
    "n = 100000\n",
    "simulations = 1000\n",
    "n_s = 1000\n",
    "res = []\n",
    "\n",
    "# Запуск симуляций A/A теста\n",
    "for i in tqdm(range(simulations)):\n",
    "    s1 = var0.sample(n_s, replace = False).values\n",
    "    s2 = var1.sample(n_s, replace = False).values\n",
    "    res.append(stats.ttest_ind(s1, s2, equal_var = False)[1]) # сохраняем pvalue\n",
    "\n",
    "plt.hist(res, bins = 50)\n",
    "plt.style.use('ggplot')\n",
    "plt.xlabel('pvalues')\n",
    "plt.ylabel('frequency')\n",
    "plt.title(\"Histogram of ttest A/A simulations \")\n",
    "plt.show()\n",
    "\n",
    "# Проверяем, что количество ложноположительных случаев не превышает альфа\n",
    "sum(np.array(res) <0.05) / simulations"
   ]
  },
  {
   "cell_type": "markdown",
   "id": "e4dd83d4",
   "metadata": {},
   "source": [
    "Вуаля, теперь А/А тест сходится."
   ]
  },
  {
   "cell_type": "markdown",
   "id": "cb86ae27",
   "metadata": {},
   "source": [
    "## Выводы:"
   ]
  },
  {
   "cell_type": "markdown",
   "id": "304879cc",
   "metadata": {},
   "source": [
    "На основе результатов А/А теста можно делать выводы о качестве работы нашей сплит-системы.\n",
    "В данном случае была проблема со сплитованием пользователей на одной из версий приложения. Если это починить (или не учитывать, как временный вариант) то тогда мы можем проводить А/В тесты используя нашу сплит-систему"
   ]
  }
 ],
 "metadata": {
  "kernelspec": {
   "display_name": "Python 3 (ipykernel)",
   "language": "python",
   "name": "python3"
  },
  "language_info": {
   "codemirror_mode": {
    "name": "ipython",
    "version": 3
   },
   "file_extension": ".py",
   "mimetype": "text/x-python",
   "name": "python",
   "nbconvert_exporter": "python",
   "pygments_lexer": "ipython3",
   "version": "3.9.12"
  }
 },
 "nbformat": 4,
 "nbformat_minor": 5
}
